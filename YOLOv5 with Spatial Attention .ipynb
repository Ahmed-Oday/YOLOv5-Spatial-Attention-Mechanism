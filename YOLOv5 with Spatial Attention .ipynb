{
 "cells": [
  {
   "cell_type": "markdown",
   "metadata": {},
   "source": [
    "# Step 1: Install Requirements"
   ]
  },
  {
   "cell_type": "code",
   "execution_count": null,
   "metadata": {},
   "outputs": [],
   "source": [
    "#clone YOLOv5 and\n",
    "#!git clone https://github.com/ultralytics/yolov5  # clone repo\n",
    "#%cd yolov5\n",
    "#%pip install --upgrade pip\n",
    "#%pip install -qr requirements.txt # install dependencies\n",
    "#%pip install -q roboflow\n",
    "#%pip install pillow\n",
    "import torch\n",
    "import os\n",
    "from IPython.display import Image, clear_output  # to display images\n",
    "\n",
    "print(f\"Setup complete. Using torch {torch.__version__} ({torch.cuda.get_device_properties(0).name if torch.cuda.is_available() else 'CPU'})\")"
   ]
  },
  {
   "cell_type": "code",
   "execution_count": null,
   "metadata": {},
   "outputs": [],
   "source": [
    "#standard yolov5 train-ck\n",
    "import subprocess\n",
    "import os\n",
    "\n",
    "# Set the GIT_PYTHON_GIT_EXECUTABLE environment variable\n",
    "os.environ['GIT_PYTHON_GIT_EXECUTABLE'] = 'C:\\\\Program Files\\\\Git\\\\bin\\\\git.exe'  # Update this path as needed\n",
    "\n",
    "# Command and arguments as a list\n",
    "\n",
    "command = ['python', 'D:/yolov5/train.py', '--batch', '32', '--epochs', '500', '--img', '48','--optimizer','Adam', '--device', '0' ,'--data', '../data.yaml', '--weights', 'yolov5s.pt', '--cfg', '../yolov5/models/yolov5s.yaml' ]\n",
    "\n",
    "result = subprocess.run(command, stdout=subprocess.PIPE, stderr=subprocess.PIPE, text=True, encoding='utf-8', errors='ignore')\n",
    "\n",
    "# Print the standard output and standard error\n",
    "print(\"Output:\", result.stdout)\n",
    "print(\"Error:\", result.stderr)"
   ]
  },
  {
   "cell_type": "code",
   "execution_count": null,
   "metadata": {},
   "outputs": [],
   "source": [
    "# test standard yolov5 CK\n",
    "import subprocess\n",
    "import os\n",
    "\n",
    "# Set the GIT_PYTHON_GIT_EXECUTABLE environment variable\n",
    "os.environ['GIT_PYTHON_GIT_EXECUTABLE'] = 'C:\\\\Program Files\\\\Git\\\\bin\\\\git.exe'  # Update this path as needed\n",
    "\n",
    "# Command and arguments as a list\n",
    "\n",
    "command = ['python', 'D:/yolov5/val.py','--img', '48','--data', '../data.yaml','--task','test','--weights', '../yolov5/runs/train/exp/weights/best.pt']\n",
    "\n",
    "result = subprocess.run(command, stdout=subprocess.PIPE, stderr=subprocess.PIPE, text=True, encoding='utf-8', errors='ignore')\n",
    "\n",
    "# Print the standard output and standard error\n",
    "print(\"Output:\", result.stdout)\n",
    "print(\"Error:\", result.stderr)"
   ]
  },
  {
   "cell_type": "code",
   "execution_count": null,
   "metadata": {},
   "outputs": [],
   "source": [
    "#standard yolov5-AM train-ck\n",
    "import subprocess\n",
    "import os\n",
    "\n",
    "# Set the GIT_PYTHON_GIT_EXECUTABLE environment variable\n",
    "os.environ['GIT_PYTHON_GIT_EXECUTABLE'] = 'C:\\\\Program Files\\\\Git\\\\bin\\\\git.exe'  # Update this path as needed\n",
    "\n",
    "# Command and arguments as a list\n",
    "\n",
    "command = ['python', 'D:/yolov5/train.py', '--batch', '32', '--epochs', '500', '--img', '48','--optimizer','Adam', '--device', '0' ,'--data', '../data.yaml', '--weights', 'yolov5s.pt', '--cfg', '../yolov5/models/yolov5standarAM.yaml' ]\n",
    "\n",
    "result = subprocess.run(command, stdout=subprocess.PIPE, stderr=subprocess.PIPE, text=True, encoding='utf-8', errors='ignore')\n",
    "\n",
    "# Print the standard output and standard error\n",
    "print(\"Output:\", result.stdout)\n",
    "print(\"Error:\", result.stderr)"
   ]
  },
  {
   "cell_type": "code",
   "execution_count": null,
   "metadata": {},
   "outputs": [],
   "source": [
    "# test  yolov5-AM CK\n",
    "import subprocess\n",
    "import os\n",
    "\n",
    "# Set the GIT_PYTHON_GIT_EXECUTABLE environment variable\n",
    "os.environ['GIT_PYTHON_GIT_EXECUTABLE'] = 'C:\\\\Program Files\\\\Git\\\\bin\\\\git.exe'  # Update this path as needed\n",
    "\n",
    "# Command and arguments as a list\n",
    "\n",
    "command = ['python', 'D:/yolov5/val.py','--img', '48','--data', '../data.yaml','--task','test','--weights', '../yolov5/runs/train/exp/weights/best.pt']\n",
    "\n",
    "result = subprocess.run(command, stdout=subprocess.PIPE, stderr=subprocess.PIPE, text=True, encoding='utf-8', errors='ignore')\n",
    "\n",
    "# Print the standard output and standard error\n",
    "print(\"Output:\", result.stdout)\n",
    "print(\"Error:\", result.stderr)"
   ]
  },
  {
   "cell_type": "code",
   "execution_count": null,
   "metadata": {},
   "outputs": [],
   "source": [
    "#standard yolov5-OAM train-ck\n",
    "import subprocess\n",
    "import os\n",
    "\n",
    "# Set the GIT_PYTHON_GIT_EXECUTABLE environment variable\n",
    "os.environ['GIT_PYTHON_GIT_EXECUTABLE'] = 'C:\\\\Program Files\\\\Git\\\\bin\\\\git.exe'  # Update this path as needed\n",
    "\n",
    "# Command and arguments as a list\n",
    "\n",
    "command = ['python', 'D:/yolov5/train.py', '--batch', '32', '--epochs', '500', '--img', '48','--optimizer','Adam', '--device', '0' ,'--data', '../data/ck++/data.yaml', '--weights', 'yolov5s.pt', '--cfg', '../yolov5/models/yolov5standarO-AM.yaml' ]\n",
    "\n",
    "result = subprocess.run(command, stdout=subprocess.PIPE, stderr=subprocess.PIPE, text=True, encoding='utf-8', errors='ignore')\n",
    "\n",
    "# Print the standard output and standard error\n",
    "print(\"Output:\", result.stdout)\n",
    "print(\"Error:\", result.stderr)"
   ]
  },
  {
   "cell_type": "code",
   "execution_count": null,
   "metadata": {},
   "outputs": [],
   "source": [
    "# test  yolov5-OAM CK\n",
    "import subprocess\n",
    "import os\n",
    "\n",
    "# Set the GIT_PYTHON_GIT_EXECUTABLE environment variable\n",
    "os.environ['GIT_PYTHON_GIT_EXECUTABLE'] = 'C:\\\\Program Files\\\\Git\\\\bin\\\\git.exe'  # Update this path as needed\n",
    "\n",
    "# Command and arguments as a list\n",
    "\n",
    "command = ['python', 'D:/yolov5/val.py','--img', '48','--data', '../data.yaml','--task','test','--weights', '../yolov5/runs/train/exp/weights/best.pt']\n",
    "\n",
    "result = subprocess.run(command, stdout=subprocess.PIPE, stderr=subprocess.PIPE, text=True, encoding='utf-8', errors='ignore')\n",
    "\n",
    "# Print the standard output and standard error\n",
    "print(\"Output:\", result.stdout)\n",
    "print(\"Error:\", result.stderr)"
   ]
  },
  {
   "cell_type": "code",
   "execution_count": null,
   "metadata": {},
   "outputs": [],
   "source": [
    "#standard yolov5-OAM1 train-ck\n",
    "import subprocess\n",
    "import os\n",
    "\n",
    "# Set the GIT_PYTHON_GIT_EXECUTABLE environment variable\n",
    "os.environ['GIT_PYTHON_GIT_EXECUTABLE'] = 'C:\\\\Program Files\\\\Git\\\\bin\\\\git.exe'  # Update this path as needed\n",
    "\n",
    "# Command and arguments as a list\n",
    "\n",
    "command = ['python', 'D:/yolov5/train.py', '--batch', '32', '--epochs', '500', '--img', '48','--optimizer','Adam', '--device', '0' ,'--data', '../data.yaml', '--weights', 'yolov5s.pt', '--cfg', '../yolov5/models/yolov5standarO-AM1.yaml' ]\n",
    "\n",
    "result = subprocess.run(command, stdout=subprocess.PIPE, stderr=subprocess.PIPE, text=True, encoding='utf-8', errors='ignore')\n",
    "\n",
    "# Print the standard output and standard error\n",
    "print(\"Output:\", result.stdout)\n",
    "print(\"Error:\", result.stderr)"
   ]
  },
  {
   "cell_type": "code",
   "execution_count": null,
   "metadata": {},
   "outputs": [],
   "source": [
    "# test  yolov5-OAM1 CK\n",
    "import subprocess\n",
    "import os\n",
    "\n",
    "# Set the GIT_PYTHON_GIT_EXECUTABLE environment variable\n",
    "os.environ['GIT_PYTHON_GIT_EXECUTABLE'] = 'C:\\\\Program Files\\\\Git\\\\bin\\\\git.exe'  # Update this path as needed\n",
    "\n",
    "# Command and arguments as a list\n",
    "\n",
    "command = ['python', 'D:/yolov5/val.py','--img', '48','--data', '../data.yaml','--task','test','--weights', '../yolov5/runs/train/exp/weights/best.pt']\n",
    "\n",
    "result = subprocess.run(command, stdout=subprocess.PIPE, stderr=subprocess.PIPE, text=True, encoding='utf-8', errors='ignore')\n",
    "\n",
    "# Print the standard output and standard error\n",
    "print(\"Output:\", result.stdout)\n",
    "print(\"Error:\", result.stderr)"
   ]
  },
  {
   "cell_type": "code",
   "execution_count": null,
   "metadata": {},
   "outputs": [],
   "source": [
    "#standard yolov5-OAM2 train-ck\n",
    "import subprocess\n",
    "import os\n",
    "\n",
    "# Set the GIT_PYTHON_GIT_EXECUTABLE environment variable\n",
    "os.environ['GIT_PYTHON_GIT_EXECUTABLE'] = 'C:\\\\Program Files\\\\Git\\\\bin\\\\git.exe'  # Update this path as needed\n",
    "\n",
    "# Command and arguments as a list\n",
    "\n",
    "command = ['python', 'D:/yolov5/train.py', '--batch', '32', '--epochs', '500','--img', '48','--optimizer','Adam', '--device', '0' ,'--data', '../data.yaml', '--weights', 'yolov5s.pt', '--cfg', '../yolov5/models/yolov5standarO-AM2.yaml' ]\n",
    "\n",
    "result = subprocess.run(command, stdout=subprocess.PIPE, stderr=subprocess.PIPE, text=True, encoding='utf-8', errors='ignore')\n",
    "\n",
    "# Print the standard output and standard error\n",
    "print(\"Output:\", result.stdout)\n",
    "print(\"Error:\", result.stderr)"
   ]
  },
  {
   "cell_type": "code",
   "execution_count": null,
   "metadata": {},
   "outputs": [],
   "source": [
    "# test  yolov5-OAM2 CK\n",
    "import subprocess\n",
    "import os\n",
    "\n",
    "# Set the GIT_PYTHON_GIT_EXECUTABLE environment variable\n",
    "os.environ['GIT_PYTHON_GIT_EXECUTABLE'] = 'C:\\\\Program Files\\\\Git\\\\bin\\\\git.exe'  # Update this path as needed\n",
    "\n",
    "# Command and arguments as a list\n",
    "\n",
    "command = ['python', 'D:/yolov5/val.py','--img', '48','--data', '../data.yaml','--task','test','--weights', '/yolov5/runs/train/exp/weights/best.pt']\n",
    "\n",
    "result = subprocess.run(command, stdout=subprocess.PIPE, stderr=subprocess.PIPE, text=True, encoding='utf-8', errors='ignore')\n",
    "\n",
    "# Print the standard output and standard error\n",
    "print(\"Output:\", result.stdout)\n",
    "print(\"Error:\", result.stderr)"
   ]
  },
  {
   "cell_type": "code",
   "execution_count": null,
   "metadata": {},
   "outputs": [],
   "source": [
    "#standard yolov5-OAM4 train-ck\n",
    "import subprocess\n",
    "import os\n",
    "\n",
    "# Set the GIT_PYTHON_GIT_EXECUTABLE environment variable\n",
    "os.environ['GIT_PYTHON_GIT_EXECUTABLE'] = 'C:\\\\Program Files\\\\Git\\\\bin\\\\git.exe'  # Update this path as needed\n",
    "\n",
    "# Command and arguments as a list\n",
    "\n",
    "command = ['python', 'D:/yolov5/train.py', '--batch', '32', '--epochs', '500', '--img', '48','--optimizer','Adam', '--device', '0' ,'--data', '../data.yaml', '--weights', 'yolov5s.pt', '--cfg', '../yolov5/models/yolov5standarO-AM4.yaml' ]\n",
    "\n",
    "result = subprocess.run(command, stdout=subprocess.PIPE, stderr=subprocess.PIPE, text=True, encoding='utf-8', errors='ignore')\n",
    "\n",
    "# Print the standard output and standard error\n",
    "print(\"Output:\", result.stdout)\n",
    "print(\"Error:\", result.stderr)"
   ]
  },
  {
   "cell_type": "code",
   "execution_count": null,
   "metadata": {},
   "outputs": [],
   "source": [
    "# test  yolov5-OAM4 CK\n",
    "import subprocess\n",
    "import os\n",
    "\n",
    "# Set the GIT_PYTHON_GIT_EXECUTABLE environment variable\n",
    "os.environ['GIT_PYTHON_GIT_EXECUTABLE'] = 'C:\\\\Program Files\\\\Git\\\\bin\\\\git.exe'  # Update this path as needed\n",
    "\n",
    "# Command and arguments as a list\n",
    "\n",
    "command = ['python', 'D:/yolov5/val.py','--img', '48','--data', '../data.yaml','--task','test','--weights', '../yolov5/runs/train/exp/weights/best.pt']\n",
    "\n",
    "result = subprocess.run(command, stdout=subprocess.PIPE, stderr=subprocess.PIPE, text=True, encoding='utf-8', errors='ignore')\n",
    "\n",
    "# Print the standard output and standard error\n",
    "print(\"Output:\", result.stdout)\n",
    "print(\"Error:\", result.stderr)"
   ]
  },
  {
   "cell_type": "code",
   "execution_count": null,
   "metadata": {},
   "outputs": [],
   "source": [
    "# Load the TensorBoard notebook extension\n",
    "%load_ext tensorboard\n",
    "\n",
    "%tensorboard --logdir D:/yolov5/runss\n"
   ]
  },
  {
   "cell_type": "code",
   "execution_count": null,
   "metadata": {},
   "outputs": [],
   "source": [
    "#standard yolov5 train-RAF-basic\n",
    "import subprocess\n",
    "import os\n",
    "\n",
    "# Set the GIT_PYTHON_GIT_EXECUTABLE environment variable\n",
    "os.environ['GIT_PYTHON_GIT_EXECUTABLE'] = 'C:\\\\Program Files\\\\Git\\\\bin\\\\git.exe'  # Update this path as needed\n",
    "\n",
    "# Command and arguments as a list\n",
    "\n",
    "command = ['python', 'D:/yolov5/train.py', '--batch', '32', '--epochs', '500', '--img', '100','--optimizer','SGD', '--device', '0' ,'--data', '../data.yaml', '--weights', 'yolov5s.pt', '--cfg', '../yolov5/models/yolov5s.yaml' ]\n",
    "\n",
    "result = subprocess.run(command, stdout=subprocess.PIPE, stderr=subprocess.PIPE, text=True, encoding='utf-8', errors='ignore')\n",
    "\n",
    "# Print the standard output and standard error\n",
    "print(\"Output:\", result.stdout)\n",
    "print(\"Error:\", result.stderr)"
   ]
  },
  {
   "cell_type": "code",
   "execution_count": null,
   "metadata": {},
   "outputs": [],
   "source": [
    "#standard yolov5 test-RAF-basic\n",
    "import subprocess\n",
    "import os\n",
    "\n",
    "# Set the GIT_PYTHON_GIT_EXECUTABLE environment variable\n",
    "os.environ['GIT_PYTHON_GIT_EXECUTABLE'] = 'C:\\\\Program Files\\\\Git\\\\bin\\\\git.exe'  # Update this path as needed\n",
    "\n",
    "# Command and arguments as a list\n",
    "\n",
    "command = ['python', 'D:/yolov5/val.py','--img', '100','--data', '../data.yaml','--task','test','--weights', '../yolov5/runs/train/exp/weights/best.pt']\n",
    "\n",
    "result = subprocess.run(command, stdout=subprocess.PIPE, stderr=subprocess.PIPE, text=True, encoding='utf-8', errors='ignore')\n",
    "\n",
    "# Print the standard output and standard error\n",
    "print(\"Output:\", result.stdout)\n",
    "print(\"Error:\", result.stderr)"
   ]
  },
  {
   "cell_type": "code",
   "execution_count": null,
   "metadata": {},
   "outputs": [],
   "source": [
    "#standard improved yolov5-Our spatial train-\n",
    "import subprocess\n",
    "import os\n",
    "\n",
    "# Set the GIT_PYTHON_GIT_EXECUTABLE environment variable\n",
    "os.environ['GIT_PYTHON_GIT_EXECUTABLE'] = 'C:\\\\Program Files\\\\Git\\\\bin\\\\git.exe'  # Update this path as needed\n",
    "\n",
    "# Command and arguments as a list\n",
    "\n",
    "command = ['python', 'D:/yolov5/train.py', '--batch', '32', '--epochs', '500', '--img', '100','--optimizer','SGD', '--device', '0' ,'--data', '../data.yaml', '--weights', 'yolov5s.pt', '--cfg', '../yolov5/models/yolo5new.yaml' ]\n",
    "\n",
    "result = subprocess.run(command, stdout=subprocess.PIPE, stderr=subprocess.PIPE, text=True, encoding='utf-8', errors='ignore')\n",
    "\n",
    "# Print the standard output and standard error\n",
    "print(\"Output:\", result.stdout)\n",
    "print(\"Error:\", result.stderr)"
   ]
  },
  {
   "cell_type": "code",
   "execution_count": null,
   "metadata": {},
   "outputs": [],
   "source": [
    "# test  yolov5-AM \n",
    "import subprocess\n",
    "import os\n",
    "\n",
    "# Set the GIT_PYTHON_GIT_EXECUTABLE environment variable\n",
    "os.environ['GIT_PYTHON_GIT_EXECUTABLE'] = 'C:\\\\Program Files\\\\Git\\\\bin\\\\git.exe'  # Update this path as needed\n",
    "\n",
    "# Command and arguments as a list\n",
    "\n",
    "command = ['python', 'D:/yolov5/val.py','--img', '100','--data', '../data.yaml','--task','test','--weights', '../yolov5/runs/train/exp/weights/best.pt']\n",
    "\n",
    "result = subprocess.run(command, stdout=subprocess.PIPE, stderr=subprocess.PIPE, text=True, encoding='utf-8', errors='ignore')\n",
    "\n",
    "# Print the standard output and standard error\n",
    "print(\"Output:\", result.stdout)\n",
    "print(\"Error:\", result.stderr)"
   ]
  }
 ],
 "metadata": {
  "kernelspec": {
   "display_name": "Python 3",
   "language": "python",
   "name": "python3"
  },
  "language_info": {
   "codemirror_mode": {
    "name": "ipython",
    "version": 3
   },
   "file_extension": ".py",
   "mimetype": "text/x-python",
   "name": "python",
   "nbconvert_exporter": "python",
   "pygments_lexer": "ipython3",
   "version": "3.12.4"
  }
 },
 "nbformat": 4,
 "nbformat_minor": 2
}
